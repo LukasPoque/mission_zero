{
 "cells": [
  {
   "cell_type": "code",
   "execution_count": 2,
   "metadata": {},
   "outputs": [],
   "source": [
    "import pandas as pd\n",
    "import numpy as np\n",
    "import matplotlib.pyplot as plt\n",
    "import matplotlib\n",
    "import math\n",
    "from scipy.interpolate import interp1d\n",
    "%matplotlib inline"
   ]
  },
  {
   "cell_type": "code",
   "execution_count": 3,
   "metadata": {},
   "outputs": [],
   "source": [
    "consumption = {}\n",
    "consumption['dryer'] = np.array([900,1000,1200,1150,1000,930,720,900,850])/1000\n",
    "consumption['dish_washer'] = np.array([1150,1280,900,990,720,340,850])/1000\n",
    "consumption['washing_maschine'] = np.array([900,1000,1730,720,900,670,1150,840,750])/1000\n",
    "\n",
    "#prizes = [0.23, 0.20, 0.14, 0.19,  0.17, 0.17, 0.26, 0.19,0.12, 0.8, 0.14, 0.17, 0.14, 0.14, 0.19,0.12, 0.8, 0.14, 0.12, 0.8, 0.14, 0.17, 0.18, 0.21]\n",
    "#prizes = np.array([prizes, prizes, prizes, prizes, prizes, prizes]).flatten()\n",
    "#print(np.shape(prizes))"
   ]
  },
  {
   "cell_type": "code",
   "execution_count": 4,
   "metadata": {},
   "outputs": [
    {
     "data": {
      "image/png": "[encoded data removed]",
      "text/plain": [
       "<Figure size 432x288 with 1 Axes>"
      ]
     },
     "metadata": {
      "needs_background": "light"
     },
     "output_type": "display_data"
    },
    {
     "name": "stdout",
     "output_type": "stream",
     "text": [
      "(144,)\n"
     ]
    }
   ],
   "source": [
    "washing_ = [226.27333333333334, 1556.3512500000002, 1570.1, 78.38625, 302.69222222222226,\\\n",
    "            80.462, 87.51333333333332,79.86666666666666, 243.6725, 84.29375000000002, 3.1566666666666667,\\\n",
    "            6.928888888888888, 4.215000000000001, 1.6989999999999998]\n",
    "price_list = [20.64, 13.11, 9.00, 8.58, 8.94, 15.44, 26.14, 35.93, 34.55, 26.62, 11.73, 10.91, 10.46, 10.47,\\\n",
    "              11.34, 24.81, 29.14, 34.96, 38.88, 38.51, 32.40, 25.82, 25.21, 21.22]\n",
    "x = np.linspace(0, 24, num=24, endpoint=True)\n",
    "y = price_list\n",
    "linear_prices = interp1d(x, y)\n",
    "\n",
    "xnew = np.linspace(0, 24, num=24*6, endpoint=False)\n",
    "plt.plot(x, y, 'o', xnew, linear_prices(xnew), '-')\n",
    "plt.legend(['data', 'linear'], loc='best')\n",
    "plt.show()\n",
    "prices = linear_prices(xnew)\n",
    "print(np.shape(prices))"
   ]
  },
  {
   "cell_type": "code",
   "execution_count": 5,
   "metadata": {},
   "outputs": [],
   "source": [
    "# available data: dict with average comsumtion load curve of dryer, washing maschine, dish washer in 10 min steps\n",
    "# engergy prizes in 10 minutes steps\n",
    "def calculateCost(start_index, end_index, device_key):\n",
    "    runtime_steps = len(consumption[device_key])\n",
    "    assert end_index - start_index >= runtime_steps\n",
    "    latest_start_index = end_index - runtime_steps\n",
    "    time_steps = (latest_start_index - start_index) +1\n",
    "    results = np.zeros(time_steps)\n",
    "    \n",
    "    for i in range(time_steps):\n",
    "        temp_start_index = start_index + i\n",
    "        temp_sum = 0\n",
    "        for j in range(runtime_steps):\n",
    "            temp_sum = temp_sum + consumption[device_key][j]*prices[temp_start_index + j]\n",
    "        results[i] = temp_sum\n",
    "        \n",
    "    return start_index, results\n",
    "\n",
    "def giveIdealTimes(start_time, result_vector):\n",
    "    indexes = [i+ start_time for i, x in enumerate(result_vector) if x == min(result_vector)]\n",
    "    return indexes\n",
    "\n",
    "def timeToIndex(hour, minutes):\n",
    "    assert minutes %10 == 0 and hour in range(24) and  minutes in range(60)\n",
    "    index = hour*6 + minutes/10\n",
    "    return int(index)\n",
    "\n",
    "def indexToTime(index):\n",
    "    hours_index = math.floor(index/6)\n",
    "    hours =['00','01','02','03','04','05','06','07','08','09','10','11','12','13','14','15','16','17','18','19','20','21','22','23'][hours_index]\n",
    "    minutes = (index - hours_index*6)*10\n",
    "    if minutes == 0:\n",
    "        time = hours +':00  '\n",
    "    else:\n",
    "        time = hours +':'+str(minutes)+'  '\n",
    "    return time\n"
   ]
  },
  {
   "cell_type": "code",
   "execution_count": 9,
   "metadata": {},
   "outputs": [
    {
     "data": {
      "text/html": [
       "<div>\n",
       "<style scoped>\n",
       "    .dataframe tbody tr th:only-of-type {\n",
       "        vertical-align: middle;\n",
       "    }\n",
       "\n",
       "    .dataframe tbody tr th {\n",
       "        vertical-align: top;\n",
       "    }\n",
       "\n",
       "    .dataframe thead th {\n",
       "        text-align: right;\n",
       "    }\n",
       "</style>\n",
       "<table border=\"1\" class=\"dataframe\">\n",
       "  <thead>\n",
       "    <tr style=\"text-align: right;\">\n",
       "      <th></th>\n",
       "      <th>Price</th>\n",
       "    </tr>\n",
       "  </thead>\n",
       "  <tbody>\n",
       "    <tr>\n",
       "      <th>18:00</th>\n",
       "      <td>327.303109</td>\n",
       "    </tr>\n",
       "    <tr>\n",
       "      <th>18:10</th>\n",
       "      <td>330.200983</td>\n",
       "    </tr>\n",
       "    <tr>\n",
       "      <th>18:20</th>\n",
       "      <td>332.519708</td>\n",
       "    </tr>\n",
       "    <tr>\n",
       "      <th>18:30</th>\n",
       "      <td>334.104559</td>\n",
       "    </tr>\n",
       "    <tr>\n",
       "      <th>18:40</th>\n",
       "      <td>333.965044</td>\n",
       "    </tr>\n",
       "    <tr>\n",
       "      <th>18:50</th>\n",
       "      <td>332.378701</td>\n",
       "    </tr>\n",
       "    <tr>\n",
       "      <th>19:00</th>\n",
       "      <td>329.328165</td>\n",
       "    </tr>\n",
       "    <tr>\n",
       "      <th>19:10</th>\n",
       "      <td>325.654201</td>\n",
       "    </tr>\n",
       "    <tr>\n",
       "      <th>19:20</th>\n",
       "      <td>321.162287</td>\n",
       "    </tr>\n",
       "    <tr>\n",
       "      <th>19:30</th>\n",
       "      <td>315.970013</td>\n",
       "    </tr>\n",
       "    <tr>\n",
       "      <th>19:40</th>\n",
       "      <td>309.176702</td>\n",
       "    </tr>\n",
       "    <tr>\n",
       "      <th>19:50</th>\n",
       "      <td>301.408982</td>\n",
       "    </tr>\n",
       "    <tr>\n",
       "      <th>20:00</th>\n",
       "      <td>292.770741</td>\n",
       "    </tr>\n",
       "  </tbody>\n",
       "</table>\n",
       "</div>"
      ],
      "text/plain": [
       "              Price\n",
       "18:00    327.303109\n",
       "18:10    330.200983\n",
       "18:20    332.519708\n",
       "18:30    334.104559\n",
       "18:40    333.965044\n",
       "18:50    332.378701\n",
       "19:00    329.328165\n",
       "19:10    325.654201\n",
       "19:20    321.162287\n",
       "19:30    315.970013\n",
       "19:40    309.176702\n",
       "19:50    301.408982\n",
       "20:00    292.770741"
      ]
     },
     "metadata": {},
     "output_type": "display_data"
    },
    {
     "name": "stdout",
     "output_type": "stream",
     "text": [
      "Ideal time is at 20:00  \n"
     ]
    }
   ],
   "source": [
    "start_index = timeToIndex(18,0) # 08:20\n",
    "end_index = timeToIndex(21,30) #16:30\n",
    "\n",
    "[start_index, result] = calculateCost(start_index, end_index,'washing_maschine')\n",
    "times = [indexToTime(i+start_index) for i in range(len(result))]\n",
    "df = pd.DataFrame(result, index=times, columns={'Price'})\n",
    "display(df)\n",
    "ideal_indexes = giveIdealTimes(start_index, result)\n",
    "#print(ideal_indexes)\n",
    "time = indexToTime(ideal_indexes[0])\n",
    "print('Ideal time is at '+time)\n"
   ]
  },
  {
   "cell_type": "code",
   "execution_count": null,
   "metadata": {},
   "outputs": [],
   "source": []
  },
  {
   "cell_type": "code",
   "execution_count": null,
   "metadata": {},
   "outputs": [],
   "source": []
  }
 ],
 "metadata": {
  "file_extension": ".py",
  "kernelspec": {
   "display_name": "Python 3",
   "language": "python",
   "name": "python3"
  },
  "language_info": {
   "codemirror_mode": {
    "name": "ipython",
    "version": 3
   },
   "file_extension": ".py",
   "mimetype": "text/x-python",
   "name": "python",
   "nbconvert_exporter": "python",
   "pygments_lexer": "ipython3",
   "version": "3.7.3"
  },
  "mimetype": "text/x-python",
  "name": "python",
  "npconvert_exporter": "python",
  "pygments_lexer": "ipython3",
  "version": 3
 },
 "nbformat": 4,
 "nbformat_minor": 2
}
