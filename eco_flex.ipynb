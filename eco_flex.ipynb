{
 "cells": [
  {
   "cell_type": "code",
   "execution_count": 4,
   "metadata": {},
   "outputs": [],
   "source": [
    "import pandas as pd\n",
    "import numpy as np\n",
    "import matplotlib.pyplot as plt\n",
    "import matplotlib\n",
    "import math\n",
    "%matplotlib inline"
   ]
  },
  {
   "cell_type": "code",
   "execution_count": 5,
   "metadata": {},
   "outputs": [
    {
     "name": "stdout",
     "output_type": "stream",
     "text": [
      "(144,)\n"
     ]
    }
   ],
   "source": [
    "consumption = {}\n",
    "consumption['dryer'] = np.array([900,1000,1200,1150,1000,930,720,900,850])/1000\n",
    "consumption['dish_washer'] = np.array([1150,1280,900,990,720,340,850])/1000\n",
    "consumption['washing_maschine'] = np.array([900,1000,1730,720,900,670,1150,840,750])/1000\n",
    "\n",
    "prizes = [0.23, 0.20, 0.14, 0.19,  0.17, 0.17, 0.26, 0.19,0.12, 0.8, 0.14, 0.17, 0.14, 0.14, 0.19,0.12, 0.8, 0.14, 0.12, 0.8, 0.14, 0.17, 0.18, 0.21]\n",
    "prizes = np.array([prizes, prizes, prizes, prizes, prizes, prizes]).flatten()\n",
    "print(np.shape(prizes))"
   ]
  },
  {
   "cell_type": "code",
   "execution_count": 23,
   "metadata": {},
   "outputs": [],
   "source": [
    "# available data: dict with average comsumtion load curve of dryer, washing maschine, dish washer in 10 min steps\n",
    "# engergy prizes in 10 minutes steps\n",
    "\n",
    "def calculateCost(start_time, end_time, device_key):\n",
    "    # either start_time, end_time in index format or convert\n",
    "    \n",
    "    runtime_steps = len(consumption[device_key])\n",
    "    assert end_time - start_time >= runtime_steps\n",
    "    latest_start_time = end_time - runtime_steps\n",
    "    time_steps = (latest_start_time - start_time) +1\n",
    "    results = np.zeros(time_steps)\n",
    "    \n",
    "    for i in range(time_steps):\n",
    "        temp_start_time = start_time + i\n",
    "        temp_sum = 0\n",
    "        for j in range(runtime_steps):\n",
    "            temp_sum = temp_sum + consumption[device_key][j]*prizes[temp_start_time + j]\n",
    "        results[i] = temp_sum\n",
    "        \n",
    "    return start_time, results\n",
    "\n",
    "def giveIdealTimes(start_time, result_vector):\n",
    "    indexes = [i+ start_time for i, x in enumerate(result_vector) if x == min(result_vector)]\n",
    "    return indexes\n",
    "\n",
    "def timeToIndex(hour, minutes):\n",
    "    assert minutes %10 == 0 and hour in range(24) and  minutes in range(60)\n",
    "    index = hour*6 + minutes/10\n",
    "    return int(index)\n",
    "\n",
    "def indexToTime(index):\n",
    "    hours_index = math.floor(index/6)\n",
    "    hours =['00','01','02','03','04','05','06','07','08','09','10','11','12','13','14','15','16','17','18','19','20','21','22','23'][hours_index]\n",
    "    minutes = (index - hours_index*6)*10\n",
    "    if minutes == 0:\n",
    "        time = hours +':00  '\n",
    "    else:\n",
    "        time = hours +':'+str(minutes)+'  '\n",
    "    return time\n"
   ]
  },
  {
   "cell_type": "code",
   "execution_count": 24,
   "metadata": {},
   "outputs": [
    {
     "name": "stdout",
     "output_type": "stream",
     "text": [
      "[2.4117 2.4232 2.018  2.1778 2.4099 2.4711 2.8586 2.5546 2.4394 2.5891\n",
      " 2.1128]\n",
      "[82]\n",
      "Ideal time is at 13:40  \n"
     ]
    }
   ],
   "source": [
    "start_index = timeToIndex(13,20) # 08:20\n",
    "end_index = timeToIndex(16,30) #16:30\n",
    "\n",
    "[start_time, res] = calculateCost(start_index, end_index,'washing_maschine')\n",
    "\n",
    "print(res)\n",
    "ideal_indexes = giveIdealTimes(start_time, res)\n",
    "print(ideal_indexes)\n",
    "time = indexToTime(ideal_indexes[0])\n",
    "print('Ideal time is at '+time)\n"
   ]
  },
  {
   "cell_type": "code",
   "execution_count": 26,
   "metadata": {},
   "outputs": [
    {
     "data": {
      "text/html": [
       "<div>\n",
       "<style scoped>\n",
       "    .dataframe tbody tr th:only-of-type {\n",
       "        vertical-align: middle;\n",
       "    }\n",
       "\n",
       "    .dataframe tbody tr th {\n",
       "        vertical-align: top;\n",
       "    }\n",
       "\n",
       "    .dataframe thead th {\n",
       "        text-align: right;\n",
       "    }\n",
       "</style>\n",
       "<table border=\"1\" class=\"dataframe\">\n",
       "  <thead>\n",
       "    <tr style=\"text-align: right;\">\n",
       "      <th></th>\n",
       "      <th>Prize</th>\n",
       "    </tr>\n",
       "  </thead>\n",
       "  <tbody>\n",
       "    <tr>\n",
       "      <th>13:20</th>\n",
       "      <td>2.4117</td>\n",
       "    </tr>\n",
       "    <tr>\n",
       "      <th>13:30</th>\n",
       "      <td>2.4232</td>\n",
       "    </tr>\n",
       "    <tr>\n",
       "      <th>13:40</th>\n",
       "      <td>2.0180</td>\n",
       "    </tr>\n",
       "    <tr>\n",
       "      <th>13:50</th>\n",
       "      <td>2.1778</td>\n",
       "    </tr>\n",
       "    <tr>\n",
       "      <th>14:00</th>\n",
       "      <td>2.4099</td>\n",
       "    </tr>\n",
       "    <tr>\n",
       "      <th>14:10</th>\n",
       "      <td>2.4711</td>\n",
       "    </tr>\n",
       "    <tr>\n",
       "      <th>14:20</th>\n",
       "      <td>2.8586</td>\n",
       "    </tr>\n",
       "    <tr>\n",
       "      <th>14:30</th>\n",
       "      <td>2.5546</td>\n",
       "    </tr>\n",
       "    <tr>\n",
       "      <th>14:40</th>\n",
       "      <td>2.4394</td>\n",
       "    </tr>\n",
       "    <tr>\n",
       "      <th>14:50</th>\n",
       "      <td>2.5891</td>\n",
       "    </tr>\n",
       "    <tr>\n",
       "      <th>15:00</th>\n",
       "      <td>2.1128</td>\n",
       "    </tr>\n",
       "  </tbody>\n",
       "</table>\n",
       "</div>"
      ],
      "text/plain": [
       "          Prize\n",
       "13:20    2.4117\n",
       "13:30    2.4232\n",
       "13:40    2.0180\n",
       "13:50    2.1778\n",
       "14:00    2.4099\n",
       "14:10    2.4711\n",
       "14:20    2.8586\n",
       "14:30    2.5546\n",
       "14:40    2.4394\n",
       "14:50    2.5891\n",
       "15:00    2.1128"
      ]
     },
     "metadata": {},
     "output_type": "display_data"
    }
   ],
   "source": [
    "times = [indexToTime(i+start_time) for i in range(len(res))]\n",
    "\n",
    "df = pd.DataFrame(res, index=times, columns={'Prize'})\n",
    "display(df)"
   ]
  },
  {
   "cell_type": "code",
   "execution_count": null,
   "metadata": {},
   "outputs": [],
   "source": []
  },
  {
   "cell_type": "code",
   "execution_count": null,
   "metadata": {},
   "outputs": [],
   "source": []
  }
 ],
 "metadata": {
  "file_extension": ".py",
  "kernelspec": {
   "display_name": "Python 3",
   "language": "python",
   "name": "python3"
  },
  "language_info": {
   "codemirror_mode": {
    "name": "ipython",
    "version": 3
   },
   "file_extension": ".py",
   "mimetype": "text/x-python",
   "name": "python",
   "nbconvert_exporter": "python",
   "pygments_lexer": "ipython3",
   "version": "3.7.3"
  },
  "mimetype": "text/x-python",
  "name": "python",
  "npconvert_exporter": "python",
  "pygments_lexer": "ipython3",
  "version": 3
 },
 "nbformat": 4,
 "nbformat_minor": 2
}
